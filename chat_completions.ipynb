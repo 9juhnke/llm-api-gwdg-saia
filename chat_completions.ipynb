{
 "cells": [
  {
   "cell_type": "markdown",
   "id": "0b4ee643",
   "metadata": {},
   "source": [
    "# Chat Completions\n",
    "\n",
    "This notebook shows how to interact with a model in dialog form using the SAIA API (see [README.md](./README.md))."
   ]
  },
  {
   "cell_type": "markdown",
   "id": "caba338c",
   "metadata": {},
   "source": [
    "#### Prequesites\n",
    "1. To install the required packages remove the comment character before the next line\n",
    "1. Add your API Key to a .env file in the root directory (see [.env.example](./.env.example) file)"
   ]
  },
  {
   "cell_type": "code",
   "execution_count": null,
   "id": "45acf138",
   "metadata": {},
   "outputs": [
    {
     "data": {
      "text/plain": [
       "True"
      ]
     },
     "execution_count": 1,
     "metadata": {},
     "output_type": "execute_result"
    }
   ],
   "source": [
    "# !pip install openai python-dotenv"
   ]
  },
  {
   "cell_type": "code",
   "execution_count": null,
   "id": "2ca3173c",
   "metadata": {},
   "outputs": [],
   "source": [
    "import os\n",
    "from dotenv import load_dotenv\n",
    "load_dotenv()"
   ]
  },
  {
   "cell_type": "markdown",
   "id": "fdd59ebb",
   "metadata": {},
   "source": [
    "It is possible to import an entire conversation into your command. This conversation can be from a previous session with the same model or another, or between you and a friend/colleague if you would like to ask them more questions (just be sure to update your system prompt to say \"You are a friend/colleague trying to explain something you said that was confusing\")."
   ]
  },
  {
   "cell_type": "markdown",
   "id": "66d7a64b",
   "metadata": {},
   "source": [
    "For configuring your own requests in greater detail, such as setting the `temperature`, `frequency_penalty`,`seed`,`max_tokens` and more, refer to the [openai API reference page](https://platform.openai.com/docs/api-reference/chat)."
   ]
  },
  {
   "cell_type": "code",
   "execution_count": null,
   "id": "20d41f50",
   "metadata": {},
   "outputs": [
    {
     "name": "stdout",
     "output_type": "stream",
     "text": [
      "Yes, there are several restaurants located within the Eiffel Tower. You can dine at one of the following:\n",
      "\n",
      "1. Le 58 Tour Eiffel: A Michelin-starred restaurant located on the first floor, offering French cuisine with a focus on seasonal ingredients.\n",
      "2. Le Jules Verne: A Michelin-starred restaurant located on the second floor, offering French cuisine with a focus on haute cuisine.\n",
      "3. Buffet de la Gare de Lyon: A self-service restaurant located on the first floor, offering a variety of French and international dishes.\n",
      "4. Champagne Bar: A bar located on the first floor, offering a selection of champagnes and light bites.\n",
      "5. Snack Bar: A quick-service restaurant located on the first floor, offering sandwiches, salads, and snacks.\n",
      "\n",
      "Reservations are highly recommended for the Michelin-starred restaurants, and it's a good idea to book in advance to ensure availability.\n"
     ]
    }
   ],
   "source": [
    "from openai import OpenAI\n",
    "\n",
    "# API configuration\n",
    "api_key = os.getenv(\"API_KEY\")\n",
    "base_url = \"https://chat-ai.academiccloud.de/v1\"\n",
    "model = \"meta-llama-3.1-8b-instruct\" # Choose any available chat (text) model\n",
    "  \n",
    "# Start OpenAI client\n",
    "client = OpenAI(\n",
    "    api_key=api_key,\n",
    "    base_url=base_url\n",
    ")\n",
    "  \n",
    "# Get response\n",
    "chat_completion = client.chat.completions.create(\n",
    "    model= model,\n",
    "    messages=[\n",
    "        {\"role\":\"system\",\"content\":\"You are a helpful assistant\"},\n",
    "        {\"role\":\"user\",\"content\":\"How tall is the Eiffel tower?\"},\n",
    "        {\"role\":\"assistant\",\"content\":\"The Eiffel Tower stands at \\\n",
    "            a height of 324 meters (1,063 feet) above ground level. \\\n",
    "            However, if you include the radio antenna on top, the \\\n",
    "            total height is 330 meters (1,083 feet).\"},\n",
    "        {\"role\":\"user\",\"content\":\"Are there restaurants?\"}\n",
    "        ],\n",
    "    temperature=0\n",
    "    )\n",
    "  \n",
    "# Print full response as JSON or extract the response text from the JSON object\n",
    "print(chat_completion.choices[0].message.content)"
   ]
  },
  {
   "cell_type": "markdown",
   "id": "ae76de2d",
   "metadata": {},
   "source": [
    "In certain cases, a long response can be expected from the model, which may take long with the above method, since the entire response gets generated first and then printed to the screen. Streaming could be used instead to retrieve the response proactively as it is being generated."
   ]
  },
  {
   "cell_type": "code",
   "execution_count": null,
   "id": "b8b166c4",
   "metadata": {},
   "outputs": [
    {
     "name": "stdout",
     "output_type": "stream",
     "text": [
      "Europe is home to countless breathtaking destinations, each offering a unique combination of history, culture, and natural beauty. Here are some of the most beautiful travel destinations in Europe, along with their main attractions:\n",
      "\n",
      "1. **Santorini, Greece**\n",
      "\t* Main attraction: **Sunset views of the caldera**, a stunning natural formation created by a volcanic eruption.\n",
      "\t* Explore the picturesque whitewashed houses, blue-domed churches, and winding cobblestone streets of Fira and Oia.\n",
      "2. **Amalfi Coast, Italy**\n",
      "\t* Main attraction: **Colorful towns perched on cliffs**, such as Positano, Amalfi, and Ravello.\n",
      "\t* Enjoy crystal-clear waters, stunning scenery, and world-class cuisine in this picturesque Italian region.\n",
      "3. **The Swiss Alps, Switzerland**\n",
      "\t* Main attraction: **Breathtaking mountain scenery**, including the iconic Jungfraujoch and the Eiger, Mönch, and Jungfrau mountains.\n",
      "\t* Explore charming towns, picturesque villages, and luxurious ski resorts like Zermatt and St. Moritz.\n",
      "4. **The Scottish Highlands, UK**\n",
      "\t* Main attraction: **Lush landscapes**, rugged mountains, and picturesque lochs, such as Loch Ness and Loch Lomond.\n",
      "\t* Visit Eilean Donan Castle, Glencoe, and the Cairngorms National Park for an unforgettable experience.\n",
      "5. **The Greek Islands, Greece**\n",
      "\t* Main attraction: **Turquoise waters and sandy beaches**, such as Navagio Beach in Zakynthos and Elafonisi Beach in Crete.\n",
      "\t* Explore the charming island capitals, like Mykonos Town and Santorini's Fira, and enjoy the local cuisine and culture.\n",
      "6. **The French Riviera, France**\n",
      "\t* Main attraction: **Glittering beaches and yachts**, such as the famous Promenade des Anglais in Nice and the upscale town of Saint-Tropez.\n",
      "\t* Visit the historic cities of Cannes, Antibes, and Villefranche-sur-Mer for a taste of luxury and Mediterranean flair.\n",
      "7. **The Dolomites, Italy**\n",
      "\t* Main attraction: **Unparalleled mountain scenery**, featuring towering peaks, picturesque valleys, and dramatic rock formations.\n",
      "\t* Hike, bike, or ski in this stunning UNESCO World Heritage Site, which offers breathtaking views and unforgettable experiences.\n",
      "8. **The Norwegian Fjords, Norway**\n",
      "\t* Main attraction: **Towering fjords and waterfalls**, such as the iconic Sognefjord and the breathtaking Trolltunga rock formation.\n",
      "\t* Explore the charming towns of Bergen and Ålesund, and enjoy the stunning natural beauty of this Nordic wonderland.\n",
      "9. **The Azores, Portugal**\n",
      "\t* Main attraction: **Lush green landscapes and hot springs**, such as the famous Gorreana Tea Plantation and the Terra Nostra Park.\n",
      "\t* Visit the charming towns of Angra do Heroismo and São Miguel, and enjoy the unique culture and natural beauty of this Atlantic archipelago.\n",
      "10. **The Lake District, England**\n",
      "\t* Main attraction: **Breathtaking lakes and mountains**, such as Windermere, Ullswater, and Helvellyn.\n",
      "\t* Explore the charming towns of Ambleside and Grasmere, and enjoy the stunning natural beauty of this picturesque region.\n",
      "\n",
      "These destinations offer just a taste of the incredible beauty and diversity that Europe has to offer. Whether you're interested in history, culture, nature, or adventure, there's something for everyone in this incredible continent."
     ]
    }
   ],
   "source": [
    "from openai import OpenAI\n",
    "\n",
    "# API configuration\n",
    "api_key = os.getenv(\"API_KEY\")\n",
    "base_url = \"https://chat-ai.academiccloud.de/v1\"\n",
    "model = \"meta-llama-3.1-8b-instruct\" # Choose any available chat (text) model\n",
    " \n",
    "# Start OpenAI client\n",
    "client = OpenAI(\n",
    "    api_key = api_key,\n",
    "    base_url = base_url\n",
    ")\n",
    " \n",
    "# Get stream\n",
    "stream = client.chat.completions.create(\n",
    "    messages=[\n",
    "        {\"role\": \"user\", \"content\": \"Name the most beautiful travel destinations \\\n",
    "            in Europe, and describe their main attraction\"}\n",
    "        ],\n",
    "    model=model,\n",
    "    stream=True\n",
    ")\n",
    " \n",
    "# Print out the response\n",
    "for chunk in stream:   \n",
    "    if chunk.choices and hasattr(chunk.choices[0].delta, \"content\"):\n",
    "        print(chunk.choices[0].delta.content or \"\", end=\"\")"
   ]
  }
 ],
 "metadata": {
  "kernelspec": {
   "display_name": "64-869 Python3 (.venv)",
   "language": "python",
   "name": ".venv"
  },
  "language_info": {
   "codemirror_mode": {
    "name": "ipython",
    "version": 3
   },
   "file_extension": ".py",
   "mimetype": "text/x-python",
   "name": "python",
   "nbconvert_exporter": "python",
   "pygments_lexer": "ipython3",
   "version": "3.11.2"
  }
 },
 "nbformat": 4,
 "nbformat_minor": 5
}
