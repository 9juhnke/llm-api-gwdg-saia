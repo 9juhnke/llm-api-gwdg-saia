{
 "cells": [
  {
   "cell_type": "markdown",
   "id": "0b4ee643",
   "metadata": {},
   "source": [
    "# Images\n",
    "\n",
    "[![Binder](https://mybinder.org/badge_logo.svg)](https://mybinder.org/v2/gh/https://github.com/9juhnke/llm-api-gwdg-saia/main?filepath=images.ipynb)\n",
    "[![Open In Colab](https://colab.research.google.com/assets/colab-badge.svg)](https://colab.research.google.com/github/9juhnke/llm-api-gwdg-saia/blob/main/images.ipynb)\n",
    "\n",
    "This notebook shows how images can be processed via SAIA API (see [README.md](./README.md))."
   ]
  },
  {
   "cell_type": "code",
   "execution_count": null,
   "id": "45acf138",
   "metadata": {},
   "outputs": [],
   "source": [
    "# To install the required packages remove the comment character before the next line\n",
    "# !pip install openai"
   ]
  },
  {
   "cell_type": "markdown",
   "id": "8de44534",
   "metadata": {},
   "source": [
    "The API specification is compatible with the [OpenAI Image API](https://platform.openai.com/docs/guides/vision). See the following minimal example in Python."
   ]
  },
  {
   "cell_type": "code",
   "execution_count": null,
   "id": "dfa66ce2",
   "metadata": {},
   "outputs": [
    {
     "name": "stdout",
     "output_type": "stream",
     "text": [
      "The image shows a collection of various musical instruments. Here is a list of the instruments visible:\n",
      "\n",
      "1. **French Horn** - A brass instrument with a wide, circular body and a large flared bell.\n",
      "2. **Violin** - A stringed instrument with a small body and four strings.\n",
      "3. **Cello** - A larger stringed instrument with four strings, typically played while seated.\n",
      "4. **Double Bass** - The largest and lowest-pitched bowed string instrument.\n",
      "5. **Flute** - A woodwind instrument that is played by blowing across a hole in the mouthpiece.\n",
      "6. **Clarinet** - A single-reed woodwind instrument.\n",
      "7. **Trombone** - A brass instrument with a slide mechanism.\n",
      "8. **Harp** - A large stringed instrument with a triangular frame and strings of varying lengths.\n",
      "9. **Snare Drum** - A percussion instrument with a shallow, cylindrical body.\n",
      "10. **Timpani (Kettle Drum)** - A type of drum with a large, deep bowl-shaped kettleshaped head.\n",
      "\n",
      "These instruments are commonly used in classical orchestras and other musical ensembles.\n"
     ]
    }
   ],
   "source": [
    "from openai import OpenAI\n",
    "import base64\n",
    "\n",
    "# API configuration\n",
    "api_key = \"<Your API_KEY>\" # Insert your API Key\n",
    "base_url = \"https://chat-ai.academiccloud.de/v1\"\n",
    "model = \"qwen2.5-vl-72b-instruct\" # Choose an model from: {gemma-3-27b-it, qwen2.5-vl-72b-instruct, internvl2.5-8b}\n",
    "\n",
    "# Path to your image\n",
    "image_path = \"test-image.png\"\n",
    "\n",
    "# Start OpenAI client\n",
    "client = OpenAI(\n",
    "    api_key=api_key,\n",
    "    base_url=base_url,\n",
    "    )\n",
    "\n",
    "# Function to encode the image\n",
    "def encode_image(image_path):\n",
    "    with open(image_path, \"rb\") as image_file:\n",
    "        return base64.b64encode(image_file.read()).decode('utf-8')\n",
    "\n",
    "# Getting the base64 string\n",
    "base64_image = encode_image(image_path)\n",
    "\n",
    "# Get response\n",
    "response = client.chat.completions.create(\n",
    "    model = model,\n",
    "    messages=[\n",
    "        {\"role\": \"user\",  \"content\": [\n",
    "            {\"type\": \"text\", \"text\": \"What is in this image?\",},\n",
    "            {\"type\": \"image_url\", \"image_url\": {\"url\":  f\"data:image/jpeg;base64,{base64_image}\"},},\n",
    "            ],\n",
    "        }\n",
    "    ],\n",
    ")\n",
    "# Print full response as JSON or extract the response text from the JSON object\n",
    "print(response.choices[0].message.content)"
   ]
  },
  {
   "cell_type": "markdown",
   "id": "21ee11a2",
   "metadata": {},
   "source": [
    "Or fetching images from the web:"
   ]
  },
  {
   "cell_type": "code",
   "execution_count": 4,
   "id": "418fa989",
   "metadata": {},
   "outputs": [
    {
     "name": "stdout",
     "output_type": "stream",
     "text": [
      "This image shows the Panathenaic Stadium, also known as the Panathinaiko Stadium, located in Athens, Greece. It is the only stadium in the world built entirely of marble and is located in the Kotzia. The stadium was used for the first modern Olympic Games in 1896 and has been used for special events and the finale of the Olympic torch relay until today. The stadium'sU-shaped running track is clearly visible, along with its tiered stone seating and flagpoles surrounding the field. In the background, modern buildings, trees, and mountains can be seen under a clear sky.\n"
     ]
    }
   ],
   "source": [
    "# Get response\n",
    "response = client.chat.completions.create(\n",
    "    model=model,\n",
    "    messages=[\n",
    "        {\"role\": \"user\", \"content\": [\n",
    "            {\"type\": \"text\", \"text\": \"What's in this image?\"},\n",
    "            {\"type\": \"image_url\", \"image_url\": {\"url\": \"https://upload.wikimedia.org/wikipedia/commons/a/ad/The_Panathenaic_Stadium_on_April_22%2C_2021.jpg\"},},\n",
    "            ],\n",
    "        }\n",
    "    ],\n",
    ")\n",
    "\n",
    "# Print full response as JSON or extract the response text from the JSON object\n",
    "print(response.choices[0].message.content)"
   ]
  }
 ],
 "metadata": {
  "kernelspec": {
   "display_name": "64-869 Python3 (.venv)",
   "language": "python",
   "name": ".venv"
  },
  "language_info": {
   "codemirror_mode": {
    "name": "ipython",
    "version": 3
   },
   "file_extension": ".py",
   "mimetype": "text/x-python",
   "name": "python",
   "nbconvert_exporter": "python",
   "pygments_lexer": "ipython3",
   "version": "3.11.2"
  }
 },
 "nbformat": 4,
 "nbformat_minor": 5
}
