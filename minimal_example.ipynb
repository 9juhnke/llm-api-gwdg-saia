{
 "cells": [
  {
   "cell_type": "markdown",
   "id": "773dae67",
   "metadata": {},
   "source": [
    "## Minimal Example\n",
    "\n",
    "[![Binder](https://mybinder.org/badge_logo.svg)](https://mybinder.org/v2/gh/9juhnke/llm-api-gwdg-saia/main?filepath=minimal_example.ipynb)\n",
    "[![Open In Colab](https://colab.research.google.com/assets/colab-badge.svg)](https://colab.research.google.com/github/9juhnke/llm-api-gwdg-saia/blob/main/minimal_example.ipynb)\n",
    "\n",
    "This notebook shows how to use the SAIA API (see [README.md](./README.md)) with minimal code."
   ]
  },
  {
   "cell_type": "code",
   "execution_count": null,
   "id": "45acf138",
   "metadata": {},
   "outputs": [],
   "source": [
    "# To install the required packages remove the comment character before the next line\n",
    "# !pip install openai python-dotenv"
   ]
  },
  {
   "cell_type": "code",
   "execution_count": null,
   "id": "beda4642",
   "metadata": {},
   "outputs": [
    {
     "name": "stdout",
     "output_type": "stream",
     "text": [
      "I'm not aware of the current weather conditions in your location. However, I can suggest some ways for you to find\n"
     ]
    }
   ],
   "source": [
    "from openai import OpenAI\n",
    "\n",
    "# API configuration\n",
    "api_key = \"<Your API_KEY>\" # Insert your API Key\n",
    "base_url = \"https://chat-ai.academiccloud.de/v1\"\n",
    "model = \"meta-llama-3.1-8b-instruct\"\n",
    "\n",
    "# Start OpenAI client\n",
    "client = OpenAI(\n",
    "    api_key=api_key, \n",
    "    base_url=base_url\n",
    "    )\n",
    "\n",
    "# Get response\n",
    "chat_completion = client.chat.completions.create(\n",
    "    model=model,\n",
    "    messages=[\n",
    "        {\"role\": \"system\", \"content\": \"You are an assistant.\"},\n",
    "        {\"role\": \"user\", \"content\": \"What is the weather today?\"}\n",
    "        ],\n",
    "    max_tokens=24,\n",
    "    temperature=0.5,\n",
    "    top_p=0.5\n",
    "    )\n",
    "\n",
    "# Print full response as JSON or extract the response text from the JSON object\n",
    "print(chat_completion.choices[0].message.content)"
   ]
  }
 ],
 "metadata": {
  "kernelspec": {
   "display_name": "64-869 Python3 (.venv)",
   "language": "python",
   "name": ".venv"
  },
  "language_info": {
   "codemirror_mode": {
    "name": "ipython",
    "version": 3
   },
   "file_extension": ".py",
   "mimetype": "text/x-python",
   "name": "python",
   "nbconvert_exporter": "python",
   "pygments_lexer": "ipython3",
   "version": "3.11.2"
  }
 },
 "nbformat": 4,
 "nbformat_minor": 5
}
