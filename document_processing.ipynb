{
 "cells": [
  {
   "cell_type": "markdown",
   "id": "3a7129f8",
   "metadata": {},
   "source": [
    "# Document Processing\n",
    "\n",
    "[![Binder](https://mybinder.org/badge_logo.svg)](https://mybinder.org/v2/gh/9juhnke/llm-api-gwdg-saia/main?filepath=document_processing.ipynb)\n",
    "[![Open In Colab](https://colab.research.google.com/assets/colab-badge.svg)](https://colab.research.google.com/github/9juhnke/llm-api-gwdg-saia/blob/main/document_processing.ipynb)\n",
    "\n",
    "This notebook shows you how to extract PDF documents into text (e.g. Markdown, HTML or JSON) and images using the SAIA API (see [README.md](./README.md))."
   ]
  },
  {
   "cell_type": "markdown",
   "id": "05e9083c",
   "metadata": {},
   "source": [
    "SAIA provides [Docling](https://docling-project.github.io/docling/) as a service via the API interface on this endpoint:\n",
    "```bash\n",
    "https://chat-ai.academiccloud.de/v1/documents\n",
    "```\n",
    "\n",
    "A minimal example is:\n",
    "\n"
   ]
  },
  {
   "cell_type": "code",
   "execution_count": null,
   "id": "95f63c3e",
   "metadata": {},
   "outputs": [
    {
     "name": "stdout",
     "output_type": "stream",
     "text": [
      "{\n",
      "  \"filename\": \"test-document\",\n",
      "  \"images\": [],\n",
      "  \"markdown\": \"i966]\\n\\nCOUNTEREXAMPLE  TO EULER'S  CONJECTURE\\n\\n2.  F.  P.  Ramsey, On  a  problem  of formal logic, Proc.  London  Math.  Soc.  (2) 30  (1930),  264-286.\\n\\nDARTMOUTH  COLLEGE\\n\\n## COUNTEREXAMPLE  TO  EULER'S  CONJECTURE ON  SUMS  OF  LIKE  POWERS\\n\\nBY  L.  J.  LANDER  AND  T.  R.  PARKIN\\n\\nCommunicated  by J.  D. Swift,  June 27, 1966\\n\\nA direct search on the  CDC  6600 yielded\\n\\n27 5 +  84 5 +  HO 5 +  133 6 - 144 5\\n\\nas  the  smallest  instance  in  which  four  fifth  powers  sum  to  a  fifth power. This is a counterexample to a conjecture  by Euler  [l] that  at least n nth powers are required to sum to an nth power, n>2.\\n\\n## REFERENCE\\n\\n1.  L.  E.  Dickson, History of the  theory  of numbers, Vol.  2,  Chelsea,  New York, 1952, p. 648.\"\n",
      "}\n"
     ]
    }
   ],
   "source": [
    "import requests\n",
    "import json\n",
    "\n",
    "# API configuration\n",
    "api_key = \"<Your API_KEY>\" # Insert your API Key\n",
    "base_url = \"https://chat-ai.academiccloud.de/v1\"\n",
    "\n",
    "# Path to your document\n",
    "file_path = \"./test-document.pdf\"\n",
    "\n",
    "# Convert PDF to Text and Images\n",
    "response = requests.post(\n",
    "    f\"{base_url}/documents/convert\",\n",
    "    headers={\n",
    "        \"accept\": \"application/json\",\n",
    "        \"Authorization\": f\"Bearer {api_key}\"\n",
    "    },\n",
    "    files={\"document\": open(file_path, \"rb\")}\n",
    ")\n",
    "\n",
    "# Print full response as JSON or extract the response content from the JSON object \n",
    "print(json.dumps(response.json(), indent=2))"
   ]
  },
  {
   "cell_type": "markdown",
   "id": "ed7bd9ec",
   "metadata": {},
   "source": [
    "To extract only the \"markdown\" field from the response, you can use: `print(response.json().get(\"markdown\", \"\"))`\n",
    "\n",
    "You can use advanced settings in your request by adding query parameters:\n",
    "\n",
    "| Parameter | Values | Description |\n",
    "|:--|:--|:--|\n",
    "| `response_type` | `markdown`, `html`, `json`, `tokens` | The output file type |\n",
    "| `extract_tables_as_images` | `true`, `false` | Whether tables should be returned as images |\n",
    "| `image_resolution_scale` | `1`, ..., `4` | Scaling factor for image resolution |\n",
    "\n",
    "For example, in order to extract tables as images, scale image resolution by 4, and convert to HTML, you can call:\n",
    "\n",
    "```python\n",
    "f\"{base_url}/documents/convert?response_type=json&extract_tables_as_images=false&image_resolution_scale=4\",\n",
    "```"
   ]
  }
 ],
 "metadata": {
  "kernelspec": {
   "display_name": "64-869 Python3 (.venv)",
   "language": "python",
   "name": ".venv"
  },
  "language_info": {
   "codemirror_mode": {
    "name": "ipython",
    "version": 3
   },
   "file_extension": ".py",
   "mimetype": "text/x-python",
   "name": "python",
   "nbconvert_exporter": "python",
   "pygments_lexer": "ipython3",
   "version": "3.11.2"
  }
 },
 "nbformat": 4,
 "nbformat_minor": 5
}
